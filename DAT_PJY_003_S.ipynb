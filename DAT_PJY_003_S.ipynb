{
 "cells": [
  {
   "attachments": {
    "logo2.png": {
     "image/png": "[encoded data removed]"
    }
   },
   "cell_type": "markdown",
   "metadata": {
    "deletable": false,
    "editable": false
   },
   "source": [
    "![logo2.png](attachment:logo2.png)"
   ]
  },
  {
   "cell_type": "markdown",
   "metadata": {
    "deletable": false,
    "editable": false
   },
   "source": [
    "**Baustein:** Daten  **Subbaustein:** Wiederholung und Imbalanced Data   $\\rightarrow$ **Übungsserie**\n",
    "\n",
    "**Version:** 1.0, **Lizenz:** <a rel=\"license\" href=\"http://creativecommons.org/licenses/by-nc-nd/4.0/\">CC BY-NC-ND 4.0</a>\n",
    "\n",
    "***\n"
   ]
  },
  {
   "cell_type": "markdown",
   "metadata": {
    "deletable": false,
    "editable": false
   },
   "source": [
    "# Einleitung"
   ]
  },
  {
   "cell_type": "markdown",
   "metadata": {
    "deletable": false,
    "editable": false
   },
   "source": [
    "In dieser Übung werden Sie folgendes wiederholen:\n",
    "- das lesen eines Pandas Data Frames\n",
    "- Informationen über die Form und den Inhalt der Daten ansehen\n",
    "- Datenvorberarbeitung (Skalierung, Entfernen von Zeilen mit ǸaN`-Werten , One-hot-encoding)\n",
    "- Aufspalten eines Datensatzes in Trainings- und Testdaten\n",
    "- Erstellen eines Klassifikations-Modells mit dem MLP Classifier (Neuronale Netze)\n",
    "- Anzeigen der Confusion Matrix und Gütema0e\n",
    "\n",
    "Sie werden hierbei zwei imbalanced Datensätze betrachten."
   ]
  },
  {
   "cell_type": "markdown",
   "metadata": {
    "deletable": false,
    "editable": false
   },
   "source": [
    "## Import Anweisungen"
   ]
  },
  {
   "cell_type": "markdown",
   "metadata": {
    "deletable": false,
    "editable": false
   },
   "source": [
    "Notwendige `import`-Anweisungen für dieses Notebook"
   ]
  },
  {
   "cell_type": "code",
   "execution_count": null,
   "metadata": {},
   "outputs": [],
   "source": [
    "import pandas as pd\n",
    "import seaborn as sns\n",
    "from sklearn.neural_network import MLPClassifier\n",
    "from sklearn.model_selection import train_test_split\n",
    "from sklearn.metrics import confusion_matrix, ConfusionMatrixDisplay, \\\n",
    "                            recall_score, f1_score,accuracy_score\n",
    "from sklearn.preprocessing import StandardScaler"
   ]
  },
  {
   "cell_type": "markdown",
   "metadata": {
    "deletable": false,
    "editable": false
   },
   "source": [
    "# Teil 1: Wiederholung eines bekannten Beispiels: Der Breast Cancer Datensatz"
   ]
  },
  {
   "cell_type": "markdown",
   "metadata": {
    "deletable": false,
    "editable": false
   },
   "source": [
    "In diesem Teil arbeiten wir mit dem [Wisconsin Breast Cancer Datensatz](https://archive.ics.uci.edu/dataset/17/breast+cancer+wisconsin+diagnostic). Dieser basiert auf Merkmalen, die aus Bildern extrahiert wurden."
   ]
  },
  {
   "cell_type": "markdown",
   "metadata": {
    "deletable": false
   },
   "source": [
    "### Aufgabe 1: Daten laden\n",
    "\n",
    "Verwenden Sie die Funktion `pd.read_csv()`, um den Datensatz `data/cancer.csv` und speichern Sie diesen in die Variable `daten`. "
   ]
  },
  {
   "cell_type": "code",
   "execution_count": null,
   "metadata": {},
   "outputs": [],
   "source": [
    "# Ihr Code"
   ]
  },
  {
   "cell_type": "markdown",
   "metadata": {
    "deletable": false,
    "editable": false
   },
   "source": [
    "### Aufgabe 2: Daten ansehen\n",
    "\n",
    "Verwenden Sie die Attribute `columns` und `shape` sowie die Methoden `head()`, `tail()` und `info()` und sehen Sie sich die Daten an."
   ]
  },
  {
   "cell_type": "code",
   "execution_count": null,
   "metadata": {},
   "outputs": [],
   "source": [
    "# Ihr Code"
   ]
  },
  {
   "cell_type": "markdown",
   "metadata": {
    "deletable": false,
    "editable": false
   },
   "source": [
    "Beantworten Sie die folgenden Fragen:\n",
    "- Wie viele Features hat der Datensatz?\n",
    "- Wie viele einzelne Datenpunkte hat der Datensatz?\n",
    "- Wie heisst die Klasse?\n",
    "- Gibt es nicht definieret (`NaN`) Werte?\n",
    "- Gibt es ein Attribut, das nicht für das Lernen genutzt werden darf?"
   ]
  },
  {
   "cell_type": "markdown",
   "metadata": {
    "deletable": false,
    "editable": false
   },
   "source": [
    "Mit `info()` können wir die statistische Zusammenfassung der einzelnen numerischen Merkmale ansehen. Bei kategorischen (nominalen und ordinalen) Merkmalen ist häufig die Anzahl Werte pro Merkmalsausprägung relevent. Um diese für die Spalten des Type `object` und `category` auszugeben, können Sie wie folgt vorgehen:"
   ]
  },
  {
   "cell_type": "markdown",
   "metadata": {
    "deletable": false,
    "editable": false
   },
   "source": [
    "``` python\n",
    "# hier wird ein neuer Datenframe erstellt, der nur aus Merkmalen des Type object und category\n",
    "# besteht\n",
    "catData=daten.select_dtypes(include=['object','category'])\n",
    "\n",
    "# hier werden die Werte ausgegeben\n",
    "for c in catData.columns:\n",
    "    print(catData[c].value_counts())\n",
    "```"
   ]
  },
  {
   "cell_type": "markdown",
   "metadata": {
    "deletable": false,
    "editable": false
   },
   "source": [
    "## Aufgabe 3: Verteilung der  Klassen\n",
    "\n",
    "Im Cancer Datensatz hat das Klassenmerkmal zwei mögliche Werte. `B` steht für \"benign\" (gutartig) und `M` für \"malign\" (schlechtartig).\n",
    "\n",
    "Verwenden Sie Code wie oben und zeigen Sie sich die Anzahl der gut- und bösartigen Datensätze an. Berechnen Sie die prozentuale Verteilung."
   ]
  },
  {
   "cell_type": "code",
   "execution_count": null,
   "metadata": {},
   "outputs": [],
   "source": [
    "# Ihr Code"
   ]
  },
  {
   "cell_type": "markdown",
   "metadata": {
    "deletable": false,
    "editable": false
   },
   "source": [
    "## Aufgabe 4: Vorbereiten der Datensätze\n",
    "\n",
    "Erzeugen Sie den Datensatz der Merkmale (`X`) sowie der Klassen (`y`) und teilen Sie dies mit dem Verhälnis 70% (Trainningsdaten) und 30% (Testdaten) auf.\n"
   ]
  },
  {
   "cell_type": "markdown",
   "metadata": {
    "deletable": false,
    "editable": false
   },
   "source": [
    "Mit \n",
    "\n",
    "```python\n",
    "X=daten.copy()\n",
    "y=X.pop('diagnosis')\n",
    "```\n",
    "erzeugen Sie einen Datensatz `X` ohne die Klasse und einen Datensatz `y` der die Klasse enthält. "
   ]
  },
  {
   "cell_type": "markdown",
   "metadata": {
    "deletable": false,
    "editable": false
   },
   "source": [
    "Der folgende Code kann genutzt werden, um Daten in Trainings- und Testdaten aufzuteilen. \n",
    "\n",
    "```python\n",
    "X_train,X_test,y_train,y_test=train_test_split(X,y,test_size=..., random_state=...,startify=y)\n",
    "```\n",
    "\n",
    "Durch Setzen des Parameters `random_state` stellen wir sicher, dass der Split für Tests mit anderen Modellen wiederholt werden kann. Mit `stratify=y` wird versucht, die Verteilung der Klassen sowohl bei den Trainigs- als auch bei den Testdaten der ursprünglichen Verteilung nachzubilden."
   ]
  },
  {
   "cell_type": "code",
   "execution_count": null,
   "metadata": {},
   "outputs": [],
   "source": [
    "# Ihr Code"
   ]
  },
  {
   "cell_type": "markdown",
   "metadata": {
    "deletable": false,
    "editable": false
   },
   "source": [
    "## Aufgabe 5: Skalierung der Daten "
   ]
  },
  {
   "cell_type": "markdown",
   "metadata": {
    "deletable": false,
    "editable": false
   },
   "source": [
    "Mit den folgenden beiden Codezeilen \n",
    "``` python\n",
    "scaler=StandardScaler()\n",
    "X_trainScaled=scaler.fit_transform(X_train)\n",
    "```\n",
    "\n",
    "wird ein StandardScaler erzeugt und die Trainingsdaten werden mit diesem Scaler bearbeiten."
   ]
  },
  {
   "cell_type": "markdown",
   "metadata": {
    "deletable": false,
    "editable": false
   },
   "source": [
    "Erzeugen Sie mit Hilfe des obigen Codes den skalierten Trainingsdatensatz und speichern Sie sich den Skaler in einer Variable.\n",
    "\n",
    "Warum ist es wichtig, sich diesen Scaler zu merken? Warum werden nur die Trainingsdaten und  nicht alle Daten skaliert?\n"
   ]
  },
  {
   "cell_type": "code",
   "execution_count": null,
   "metadata": {},
   "outputs": [],
   "source": [
    "# Ihr Code"
   ]
  },
  {
   "cell_type": "markdown",
   "metadata": {
    "deletable": false,
    "editable": false
   },
   "source": [
    "## Aufgabe 6: Trainieren des Modells\n",
    "\n",
    "Mit dem folgenden Code wird das Modell trainiert und gespeichert:\n",
    "``` python\n",
    "# Model definieren inkl. Parameter\n",
    "model=MLPClassifier(random_state=10)\n",
    "# Trainieren\n",
    "model.fit(X_trainScaled,y_train)\n",
    "```\n",
    "Sehen Sie in der API Dokumentation nach und verwenden Sie den Parameter `max_iter` um sicherzustellen, dass die Lernen konvergiert. "
   ]
  },
  {
   "cell_type": "code",
   "execution_count": null,
   "metadata": {},
   "outputs": [],
   "source": [
    "# Ihr Code"
   ]
  },
  {
   "cell_type": "markdown",
   "metadata": {
    "deletable": false,
    "editable": false
   },
   "source": [
    "## Aufgabe 7: Testen des Modells\n",
    "\n",
    "Mit dem folgenden Codesegment \n",
    "``` python\n",
    "# Anwenden des Moduls zu Vorhersagen (hier Klassifikation)\n",
    "X_testScaled=scaler.transform(X_test)\n",
    "ypred=model.predict(X_testScaled)\n",
    "# Evaluieren\n",
    "print('Accuracy:',model.score(X_testScaled,y_test))\n",
    "cm=confusion_matrix(y_test,ypred)\n",
    "print(cm)\n",
    "cmd = ConfusionMatrixDisplay(cm, display_labels=model.classes_)\n",
    "cmd.plot()\n",
    "```\n",
    "\n",
    "wird das trainierte Model auf die Testdaten angewendet. Hierzu müssen die Testden mit dem zuvor trainierten Scalter skalier werden. Die Accuracy und die Confusion Matrix werden dann berechnet und die Confusion Matrix dargestellt.\n",
    "\n",
    "Nutzen Sie obigen Code, um das Modell auf die Testdaten anzuwenden und das Ergebnis anzuzeigen."
   ]
  },
  {
   "cell_type": "code",
   "execution_count": null,
   "metadata": {},
   "outputs": [],
   "source": [
    "# Ihr Code"
   ]
  },
  {
   "cell_type": "markdown",
   "metadata": {
    "deletable": false,
    "editable": false
   },
   "source": [
    "## Aufgabe 8: Gütemaße für imbalanced Data\n",
    "\n",
    "In der Vorlesung haben Sie über Gütemaße gesprochen. Erläutern Sie kurz, warum Accuracy für imbalanced Data nicht das beste einzige Gütemaß sein sollte. \n",
    "Berechnen Sie, basierend auf obiger Confusion Matrix die folgenden Gütemaße\n",
    "- Precision\n",
    "- Spezifität\n",
    "- Recall\n",
    "- F1-Score."
   ]
  },
  {
   "cell_type": "markdown",
   "metadata": {
    "deletable": false,
    "editable": false
   },
   "source": [
    "**Ihre Antwort:**\n"
   ]
  },
  {
   "cell_type": "markdown",
   "metadata": {
    "deletable": false,
    "editable": false
   },
   "source": [
    "## Aufgabe 9: Gütemaße mit sklearn brechnen\n",
    "\n",
    "Auch in Python (`sklearn`) stehen Ihnen verschiedene Gütemaße zur Verfügung. die in folgender Form aufgerufen werden (hierbei steht xy für das Gütemaß):\n",
    "\n",
    "`xy_score(y_true, y_pred)`\n",
    "\n",
    "xy kann hier für `accuracy`, `f1`und `recall` stehen. Beim Aufruf von `recall_scor` muss zusätzlich noch das Label der positiven Klasse als weiterer Parameter übergeben werden: `pos_label='`\n",
    "\n",
    "Wenn Sie hier das negative Label übergeben, erhalten Sie die Spezifizität.\n",
    "\n",
    "Berechen Sie die Werte für:\n",
    "- Precision\n",
    "- Spezifität\n",
    "- Recall\n",
    "- F1-Score\n",
    "mit Python und vergleichen Sie die Werte mit Ihren Ergebnissen aus **Aufgabe 8**,"
   ]
  },
  {
   "cell_type": "code",
   "execution_count": null,
   "metadata": {},
   "outputs": [],
   "source": [
    "# Ihr Code\n"
   ]
  },
  {
   "cell_type": "markdown",
   "metadata": {
    "deletable": false,
    "editable": false
   },
   "source": [
    "# Teil 2: WILT: Klassifikation kranker Bäume"
   ]
  },
  {
   "cell_type": "markdown",
   "metadata": {
    "deletable": false,
    "editable": false
   },
   "source": [
    "Der [WILT Datensatz](https://archive.ics.uci.edu/dataset/285/wilt)  ist sehr unausgeglichen mit nur wenigen positiven Daten. In diesem Datensatz geht es um die Identifikation kranker Bäume. "
   ]
  },
  {
   "cell_type": "markdown",
   "metadata": {
    "deletable": false,
    "editable": false
   },
   "source": [
    "## Aufgabe 10: WILT Datensatz\n",
    "\n",
    "Laden Sie die Trainingsdaten `data/Wilt_training.csv` in einen Dataframe. \n",
    "- Sehen Sie sich die Daten an.\n",
    "- Wie lautet der Namen des Klassenattributs? Welche Werte gibt es? Wie ist die prozentuale Verteilung?\n",
    "- Trainieren Sie den Scaler sowie das Model.\n",
    "- Geben Sie die Accuracy aus, wenn Sie die Trainingsdaten vorhersagen. \n",
    "- Laden Sie dann die Testdaten `data/Wilt_testing.csv` in einen Datenframe, skalieren Sie sie und bestimmen Sie die Accuracy, wenn Sie das Model auf Testdaten anwenden.\n",
    "- Geben Sie die weiteren Gütemaße Recall, Spezifität und F1 Score aus.\n",
    "- Diskutieren Sie die Ergebnisse sowie die Verteilung der Klassen in den Trainings. und Testdaten. Wie finden Sie das Model?"
   ]
  },
  {
   "cell_type": "code",
   "execution_count": null,
   "metadata": {},
   "outputs": [],
   "source": [
    "# Ihr Code"
   ]
  },
  {
   "cell_type": "markdown",
   "metadata": {
    "deletable": false,
    "editable": false
   },
   "source": [
    "# Teil 3: Ein weiteres Beispiel: "
   ]
  },
  {
   "cell_type": "markdown",
   "metadata": {
    "deletable": false,
    "editable": false
   },
   "source": [
    "In diesem Beispiel geht es um die Vorhersage von Schlaganfällen [Cerebral Stroke Prediction-Imbalanced Dataset](https://www.kaggle.com/datasets/shashwatwork/cerebral-stroke-predictionimbalaced-dataset/data) "
   ]
  },
  {
   "cell_type": "markdown",
   "metadata": {
    "deletable": false,
    "editable": false
   },
   "source": [
    "## Aufgabe 11: Stroke Datensatz\n",
    "\n",
    "Die Daten sind in der Datei `data/stroke.csv`. Gehen Sie ähnlich vor wie in Aufgabe 10. \n",
    "In diesem Beispiel müssen wir allerdings die Daten noch etwas vorverarbeiten:\n",
    "- Löschen Sie das Merkmal / die Spalte `id`\n",
    "- Rufen Sie die Methode `pd.get_dummies(daten)` auf, um die Daten mit one-hot-encoding zu codieren.\n",
    "- In der Spalte `smoking_status` sind sehr viele Daten nicht spezifiziert `NaN`. Diese werden beim one-hot-encoding ignoriert. D.h. in diesen Zeile erhalten alle Spalten des one-hot-encoding den Wert `False`.\n",
    "- Der `MLPClassifier` kann nicht existierende Werte (`NaN`) nicht verarbeiten. Löschen Sie diese mit Hilfe der Methode `daten.dropna()`. "
   ]
  },
  {
   "cell_type": "code",
   "execution_count": null,
   "metadata": {},
   "outputs": [],
   "source": [
    "# Ihr Code"
   ]
  },
  {
   "cell_type": "markdown",
   "metadata": {
    "deletable": false,
    "editable": false
   },
   "source": [
    "---\n",
    "\n",
    "<a rel=\"license\" href=\"http://creativecommons.org/licenses/by-nc-nd/4.0/\"><img alt=\"Creative Commons Lizenzvertrag\" style=\"border-width:0\" src=\"https://i.creativecommons.org/l/by-nc-nd/4.0/88x31.png\" /></a><br /><span xmlns:dct=\"http://purl.org/dc/terms/\" property=\"dct:title\">Die Übungsserie begleitend zum AI4ALL-Kurs</span> der <span xmlns:cc=\"http://creativecommons.org/ns#\" property=\"cc:attributionName\">EAH Jena</span> ist lizenziert unter einer <a rel=\"license\" href=\"http://creativecommons.org/licenses/by-nc-nd/4.0/\">Creative Commons Namensnennung - Nicht kommerziell - Keine Bearbeitungen 4.0 International Lizenz</a>.\n",
    "\n",
    "Der AI4ALL-Kurs entsteht im Rahmen des Projekts MoVeKI2EAH. Das Projekt MoVeKI2EAH wird durch das BMBF (Bundesministerium für Bildung und Forschung) und den Freistaat Thüringen im Rahmen der Bund-Länder-Initiative zur Förderung von Künstlicher Intelligenz in der Hochschulbildung gefördert (12/2021 bis 11/2025, Föderkennzeichen 16DHBKI081)."
   ]
  }
 ],
 "metadata": {
  "kernelspec": {
   "display_name": "Python 3 (ipykernel)",
   "language": "python",
   "name": "python3"
  },
  "language_info": {
   "codemirror_mode": {
    "name": "ipython",
    "version": 3
   },
   "file_extension": ".py",
   "mimetype": "text/x-python",
   "name": "python",
   "nbconvert_exporter": "python",
   "pygments_lexer": "ipython3",
   "version": "3.12.2"
  },
  "toc": {
   "base_numbering": 0
  }
 },
 "nbformat": 4,
 "nbformat_minor": 4
}
